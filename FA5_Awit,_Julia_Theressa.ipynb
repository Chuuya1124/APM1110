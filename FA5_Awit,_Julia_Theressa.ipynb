{
  "nbformat": 4,
  "nbformat_minor": 0,
  "metadata": {
    "colab": {
      "provenance": [],
      "authorship_tag": "ABX9TyO0hMheLcejnCMdu8aqgbW7",
      "include_colab_link": true
    },
    "kernelspec": {
      "name": "ir",
      "display_name": "R"
    },
    "language_info": {
      "name": "R"
    }
  },
  "cells": [
    {
      "cell_type": "markdown",
      "metadata": {
        "id": "view-in-github",
        "colab_type": "text"
      },
      "source": [
        "<a href=\"https://colab.research.google.com/github/Chuuya1124/APM1110/blob/main/FA5_Awit%2C_Julia_Theressa.ipynb\" target=\"_parent\"><img src=\"https://colab.research.google.com/assets/colab-badge.svg\" alt=\"Open In Colab\"/></a>"
      ]
    },
    {
      "cell_type": "markdown",
      "source": [
        "6."
      ],
      "metadata": {
        "id": "j-zzmzQCQ2o0"
      }
    },
    {
      "cell_type": "code",
      "execution_count": 1,
      "metadata": {
        "colab": {
          "base_uri": "https://localhost:8080/"
        },
        "id": "bJJykAY9K2EU",
        "outputId": "e501b53a-10e8-4bcb-fb7e-bf4de1c1f184"
      },
      "outputs": [
        {
          "output_type": "stream",
          "name": "stdout",
          "text": [
            "(a) Probability of receiving an email with an error: 0.0142 \n",
            "(b) Probability that a message arrives without error: 0.9858 \n",
            "(c) Probability that a message was sent through Server 1 given it arrived without error: 0.4017 \n"
          ]
        }
      ],
      "source": [
        "##Given data\n",
        "data <- data.frame(\n",
        "  server = c(\"Server 1\", \"Server 2\", \"Server 3\"),\n",
        "  pct_messages = c(40, 25, 35) / 100,\n",
        "  pct_errors = c(1, 2, 1.5) / 100\n",
        ")\n",
        "\n",
        "##(a) Probability of receiving an email with an error\n",
        "p_error <- sum(data$pct_messages * data$pct_errors)\n",
        "\n",
        "##(b) Probability of a message arriving without error\n",
        "p_no_error <- 1 - p_error\n",
        "\n",
        "##(c) Probability that a message was sent through Server 1 given it arrived without error\n",
        "p_server1_given_no_error <- (data$pct_messages[1] * (1 - data$pct_errors[1])) / p_no_error\n",
        "\n",
        "##Print results\n",
        "cat(\"(a) Probability of receiving an email with an error:\", round(p_error, 4), \"\\n\")\n",
        "cat(\"(b) Probability that a message arrives without error:\", round(p_no_error, 4), \"\\n\")\n",
        "cat(\"(c) Probability that a message was sent through Server 1 given it arrived without error:\", round(p_server1_given_no_error, 4), \"\\n\")\n"
      ]
    },
    {
      "cell_type": "markdown",
      "source": [
        "9.\n"
      ],
      "metadata": {
        "id": "_LSKdyrTNHao"
      }
    },
    {
      "cell_type": "code",
      "source": [
        "##Given probabilities\n",
        "p_A <- 0.2; p_B <- 0.7; p_C <- 1 - (p_A + p_B)\n",
        "p_G_given_A <- 0.1; p_G_given_B <- 0.4; p_G_given_C <- 0.2\n",
        "\n",
        "##Calculations\n",
        "p_G <- p_A * p_G_given_A + p_B * p_G_given_B + p_C * p_G_given_C\n",
        "p_Gc <- 1 - p_G\n",
        "p_B_given_G <- (p_B * p_G_given_B) / p_G\n",
        "p_B_given_Gc <- (p_B * (1 - p_G_given_B)) / p_Gc\n",
        "p_C_given_G <- (p_C * p_G_given_C) / p_G\n",
        "p_C_given_Gc <- (p_C * (1 - p_G_given_C)) / p_Gc\n",
        "\n",
        "# Print results\n",
        "cat(sprintf(\"(a) P(G^c): %.4f\\n(b) P(B|G): %.4f\\n(c) Required probabilities:\\nP(G): %.4f\\nP(B|G^c): %.4f\\nP(C|G): %.4f\\nP(C|G^c): %.4f\\n\", p_Gc, p_B_given_G, p_G, p_B_given_Gc, p_C_given_G, p_C_given_Gc))\n"
      ],
      "metadata": {
        "colab": {
          "base_uri": "https://localhost:8080/"
        },
        "id": "IEgqc2OiNH_u",
        "outputId": "81619312-d819-4f65-8dad-3119d94cf523"
      },
      "execution_count": 2,
      "outputs": [
        {
          "output_type": "stream",
          "name": "stdout",
          "text": [
            "(a) P(G^c): 0.6800\n",
            "(b) P(B|G): 0.8750\n",
            "(c) Required probabilities:\n",
            "P(G): 0.3200\n",
            "P(B|G^c): 0.6176\n",
            "P(C|G): 0.0625\n",
            "P(C|G^c): 0.1176\n"
          ]
        }
      ]
    },
    {
      "cell_type": "markdown",
      "source": [
        "13.\n"
      ],
      "metadata": {
        "id": "fZnmzT8SN1lA"
      }
    },
    {
      "cell_type": "code",
      "source": [
        "##Given probabilities\n",
        "p_I <- 0.7; p_E <- 0.3  # Probabilities of spyware coming via Internet or Email\n",
        "detect_I <- 0.6; detect_E <- 0.8  # Detection probabilities\n",
        "\n",
        "##(a) Probability that the spyware infects the system\n",
        "p_not_detect_I <- 1 - detect_I\n",
        "p_not_detect_E <- 1 - detect_E\n",
        "p_infect <- p_I * p_not_detect_I + p_E * p_not_detect_E\n",
        "\n",
        "##(b) Probability that spyware came via Internet given it was detected\n",
        "p_detect <- p_I * detect_I + p_E * detect_E\n",
        "p_I_given_detect <- (p_I * detect_I) / p_detect\n",
        "\n",
        "##Print results\n",
        "cat(sprintf(\"(a) Probability of infection: %.4f\\n(b) P(Internet | Detected): %.4f\\n\", p_infect, p_I_given_detect))\n"
      ],
      "metadata": {
        "colab": {
          "base_uri": "https://localhost:8080/"
        },
        "id": "m0FpZ9qLN1-h",
        "outputId": "efb57d6a-19fa-4414-bc65-38dfafdf318f"
      },
      "execution_count": 3,
      "outputs": [
        {
          "output_type": "stream",
          "name": "stdout",
          "text": [
            "(a) Probability of infection: 0.3400\n",
            "(b) P(Internet | Detected): 0.6364\n"
          ]
        }
      ]
    }
  ]
}