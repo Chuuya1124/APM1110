{
  "nbformat": 4,
  "nbformat_minor": 0,
  "metadata": {
    "colab": {
      "provenance": [],
      "authorship_tag": "ABX9TyPOkZdJYZsAEG8V/OzkV3rr",
      "include_colab_link": true
    },
    "kernelspec": {
      "name": "python3",
      "display_name": "Python 3"
    },
    "language_info": {
      "name": "python"
    }
  },
  "cells": [
    {
      "cell_type": "markdown",
      "metadata": {
        "id": "view-in-github",
        "colab_type": "text"
      },
      "source": [
        "<a href=\"https://colab.research.google.com/github/Chuuya1124/APM1110/blob/main/FA6_Awit.ipynb\" target=\"_parent\"><img src=\"https://colab.research.google.com/assets/colab-badge.svg\" alt=\"Open In Colab\"/></a>"
      ]
    },
    {
      "cell_type": "code",
      "source": [
        "import pandas as pd\n",
        "import numpy as np\n",
        "import scipy.stats as st\n",
        "\n",
        "# -----------------------------\n",
        "# Data from Table 9.7\n",
        "# -----------------------------\n",
        "data = {\n",
        "    \"Column 1\": [418, 363, 331, 351, 307, 158, 523, 331, 466, 366],\n",
        "    \"Column 2\": [379, 434, 356, 151, 297, 310, 356, 364, 150, 195],\n",
        "    \"Column 3\": [77, 348, 423, 220, 481, 331, 210, 352, 282, 96],\n",
        "    \"Column 4\": [212, 245, 330, 383, 391, 348, 364, 299, 221, 219],\n",
        "    \"Column 5\": [378, 341, 247, 257, 210, 124, 406, 221, 432, 202]\n",
        "}\n",
        "\n",
        "df = pd.DataFrame(data)\n",
        "\n",
        "# -----------------------------\n",
        "# Part 1: Descriptive Statistics\n",
        "# -----------------------------\n",
        "desc_stats = pd.DataFrame({\n",
        "    \"Valid\": df.count(),\n",
        "    \"Missing\": df.isna().sum(),\n",
        "    \"Mean\": df.mean().round(3),\n",
        "    \"Std. Deviation\": df.std(ddof=1).round(3),\n",
        "    \"Minimum\": df.min(),\n",
        "    \"Maximum\": df.max()\n",
        "}).T  # transpose for display\n",
        "\n",
        "print(\"Results ▼\\n\")\n",
        "print(\"Descriptive Statistics ▼\\n\")\n",
        "print(desc_stats)\n",
        "\n",
        "# -----------------------------\n",
        "# Part 2: 80% Confidence Interval for μ\n",
        "# -----------------------------\n",
        "# Flatten all 50 data points\n",
        "all_data = df.values.flatten()\n",
        "\n",
        "# Compute sample statistics\n",
        "n = len(all_data)\n",
        "mean = np.mean(all_data)\n",
        "std_dev = np.std(all_data, ddof=1)\n",
        "\n",
        "# Find t-critical value for 80% CI\n",
        "confidence_level = 0.80\n",
        "alpha = 1 - confidence_level\n",
        "t_critical = st.t.ppf(1 - alpha/2, df=n-1)\n",
        "\n",
        "# Compute margin of error\n",
        "margin_error = t_critical * (std_dev / np.sqrt(n))\n",
        "\n",
        "# Confidence interval bounds\n",
        "lower_bound = mean - margin_error\n",
        "upper_bound = mean + margin_error\n",
        "\n",
        "print(\"\\n80% Confidence Interval for μ ▼\\n\")\n",
        "print(f\"Sample Size (n): {n}\")\n",
        "print(f\"Sample Mean (x̄): {mean:.2f}\")\n",
        "print(f\"Sample Std. Deviation (s): {std_dev:.2f}\")\n",
        "print(f\"t-critical (df={n-1}): {t_critical:.3f}\")\n",
        "print(f\"Margin of Error: {margin_error:.2f}\")\n",
        "print(f\"80% Confidence Interval for μ: ({lower_bound:.2f}, {upper_bound:.2f})\")\n"
      ],
      "metadata": {
        "colab": {
          "base_uri": "https://localhost:8080/"
        },
        "id": "nl1KUkMU4X6H",
        "outputId": "d84af2a8-5f31-45b7-ef31-315b73dd0998"
      },
      "execution_count": 3,
      "outputs": [
        {
          "output_type": "stream",
          "name": "stdout",
          "text": [
            "Results ▼\n",
            "\n",
            "Descriptive Statistics ▼\n",
            "\n",
            "                Column 1  Column 2  Column 3  Column 4  Column 5\n",
            "Valid             10.000    10.000    10.000    10.000    10.000\n",
            "Missing            0.000     0.000     0.000     0.000     0.000\n",
            "Mean             361.400   299.200   282.000   301.200   281.800\n",
            "Std. Deviation    98.076   100.218   131.988    71.513   101.484\n",
            "Minimum          158.000   150.000    77.000   212.000   124.000\n",
            "Maximum          523.000   434.000   481.000   391.000   432.000\n",
            "\n",
            "80% Confidence Interval for μ ▼\n",
            "\n",
            "Sample Size (n): 50\n",
            "Sample Mean (x̄): 305.12\n",
            "Sample Std. Deviation (s): 102.56\n",
            "t-critical (df=49): 1.299\n",
            "Margin of Error: 18.84\n",
            "80% Confidence Interval for μ: (286.28, 323.96)\n"
          ]
        }
      ]
    }
  ]
}